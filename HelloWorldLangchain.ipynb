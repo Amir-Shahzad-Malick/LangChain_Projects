{
  "nbformat": 4,
  "nbformat_minor": 0,
  "metadata": {
    "colab": {
      "provenance": [],
      "authorship_tag": "ABX9TyN6t9kuMHLT8Bt8ULR3gsbD",
      "include_colab_link": true
    },
    "kernelspec": {
      "name": "python3",
      "display_name": "Python 3"
    },
    "language_info": {
      "name": "python"
    }
  },
  "cells": [
    {
      "cell_type": "markdown",
      "metadata": {
        "id": "view-in-github",
        "colab_type": "text"
      },
      "source": [
        "<a href=\"https://colab.research.google.com/github/Amir-Shahzad-Malick/LangChain_Projects/blob/main/HelloWorldLangchain.ipynb\" target=\"_parent\"><img src=\"https://colab.research.google.com/assets/colab-badge.svg\" alt=\"Open In Colab\"/></a>"
      ]
    },
    {
      "cell_type": "markdown",
      "source": [
        "**Setting up the Environment**"
      ],
      "metadata": {
        "id": "g9MJ6soQTBvi"
      }
    },
    {
      "cell_type": "code",
      "source": [
        "!pip install langchain langchain-google-genai"
      ],
      "metadata": {
        "id": "2w74VsmXj3EI"
      },
      "execution_count": null,
      "outputs": []
    },
    {
      "cell_type": "code",
      "source": [
        "import langchain_google_genai as genai"
      ],
      "metadata": {
        "id": "feuXbYDTkIAw"
      },
      "execution_count": 3,
      "outputs": []
    },
    {
      "cell_type": "code",
      "source": [
        "from langchain_google_genai import ChatGoogleGenerativeAI"
      ],
      "metadata": {
        "id": "wnvYxIvRoqHM"
      },
      "execution_count": 4,
      "outputs": []
    },
    {
      "cell_type": "markdown",
      "source": [
        "**Setting up API Key**"
      ],
      "metadata": {
        "id": "TF5XyMrTThxL"
      }
    },
    {
      "cell_type": "code",
      "source": [
        "from google.colab import userdata\n",
        "GOOGLE_API_KEY = userdata.get('GOOGLE_API_KEY')"
      ],
      "metadata": {
        "id": "9_y1fNSkmDFv"
      },
      "execution_count": 5,
      "outputs": []
    },
    {
      "cell_type": "markdown",
      "source": [
        "**Configure the Model**"
      ],
      "metadata": {
        "id": "QjFULhSeTp8q"
      }
    },
    {
      "cell_type": "code",
      "source": [
        "generation_config = {\n",
        "  \"temperature\": 1,\n",
        "  \"max_output_tokens\": 5000,\n",
        "}\n",
        "MODEL: str = \"gemini-2.0-flash-exp\""
      ],
      "metadata": {
        "id": "MPjlbTRpurEH"
      },
      "execution_count": 6,
      "outputs": []
    },
    {
      "cell_type": "code",
      "source": [
        "model: ChatGoogleGenerativeAI = genai.ChatGoogleGenerativeAI(\n",
        "    model=MODEL,\n",
        "    api_key=GOOGLE_API_KEY,\n",
        "    generation_config=generation_config\n",
        ")"
      ],
      "metadata": {
        "id": "N2VwmoRjvy12"
      },
      "execution_count": 7,
      "outputs": []
    },
    {
      "cell_type": "markdown",
      "source": [
        "**Create a prompt and run the Hello world**"
      ],
      "metadata": {
        "id": "Q_FxqOB4Uno1"
      }
    },
    {
      "cell_type": "code",
      "source": [
        "prompt = \"what is Machine Learning?\"\n",
        "response = model.invoke(prompt)"
      ],
      "metadata": {
        "id": "bMcC2Khoxm2i"
      },
      "execution_count": 8,
      "outputs": []
    },
    {
      "cell_type": "code",
      "source": [
        "print(response.content)"
      ],
      "metadata": {
        "colab": {
          "base_uri": "https://localhost:8080/"
        },
        "id": "D6Cuz2nryU2N",
        "outputId": "921b070f-cece-42b3-9fdc-b0a2bb90f5f2"
      },
      "execution_count": 9,
      "outputs": [
        {
          "output_type": "stream",
          "name": "stdout",
          "text": [
            "Okay, let's break down what Machine Learning (ML) is. In essence, it's a field of computer science that allows computers to learn from data without being explicitly programmed. Instead of writing specific instructions for every task, you feed the computer data and let it find patterns and relationships, enabling it to make predictions or decisions.\n",
            "\n",
            "Here's a more detailed explanation:\n",
            "\n",
            "**Key Concepts of Machine Learning:**\n",
            "\n",
            "1. **Learning from Data:** The core idea is that instead of hardcoding rules, we provide algorithms with data. This data can be anything: text, images, numbers, audio, etc. The algorithm analyzes this data to identify patterns, trends, and relationships.\n",
            "\n",
            "2. **Algorithms:** These are the mathematical recipes that guide the learning process. Different algorithms are suited for different types of tasks and data. Examples include:\n",
            "   * **Linear Regression:** For predicting continuous values (e.g., house prices).\n",
            "   * **Logistic Regression:** For classifying data into categories (e.g., spam or not spam).\n",
            "   * **Decision Trees:** For making decisions based on a series of rules.\n",
            "   * **Support Vector Machines (SVMs):** For complex classification tasks.\n",
            "   * **Neural Networks:** For complex pattern recognition (especially deep learning).\n",
            "   * **Clustering Algorithms:** For grouping data points based on similarity.\n",
            "\n",
            "3. **Models:** After the algorithm learns from the data, it creates a model. This model is a representation of the patterns it discovered and can be used to make predictions or decisions on new, unseen data.\n",
            "\n",
            "4. **Training:** The process of feeding data to the algorithm and letting it learn is called training. During training, the algorithm adjusts its internal parameters to improve its performance on the given data.\n",
            "\n",
            "5. **Evaluation:** After training, the model is evaluated on a separate set of data (not used for training) to assess its performance. This helps to understand how well the model generalizes to new, unseen data.\n",
            "\n",
            "**How it Works (Simplified):**\n",
            "\n",
            "Imagine you want to teach a computer to recognize cats in pictures.\n",
            "\n",
            "1. **Data:** You provide the computer with thousands of images of cats and non-cats.\n",
            "2. **Algorithm:** You choose a suitable algorithm, let's say a neural network.\n",
            "3. **Training:** The algorithm analyzes the images, identifying features that are common in cat pictures (e.g., pointy ears, whiskers, specific eye shapes).\n",
            "4. **Model:** The algorithm builds a model that captures these cat-specific features.\n",
            "5. **Prediction:** You show the model a new image. The model compares the features in the new image to the learned features in its model and predicts whether it's a cat or not.\n",
            "\n",
            "**Types of Machine Learning:**\n",
            "\n",
            "Machine learning is often categorized into different types based on the learning method:\n",
            "\n",
            "* **Supervised Learning:** The algorithm is trained on labeled data (data with known outcomes). This is used for tasks like classification and regression.\n",
            "* **Unsupervised Learning:** The algorithm is trained on unlabeled data and tries to find patterns and structure in the data. This is used for tasks like clustering and dimensionality reduction.\n",
            "* **Reinforcement Learning:** The algorithm learns through trial and error by interacting with an environment. It receives rewards or penalties for its actions and learns to optimize its behavior to maximize rewards.\n",
            "\n",
            "**Why is Machine Learning Important?**\n",
            "\n",
            "Machine learning is revolutionizing many industries and aspects of our lives:\n",
            "\n",
            "* **Recommendation Systems:** (e.g., Netflix, Amazon)\n",
            "* **Image and Speech Recognition:** (e.g., Google Photos, Siri, Alexa)\n",
            "* **Fraud Detection:** (e.g., credit card companies)\n",
            "* **Medical Diagnosis:** (e.g., identifying diseases from scans)\n",
            "* **Autonomous Vehicles:** (e.g., self-driving cars)\n",
            "* **Personalized Experiences:** (e.g., targeted advertising)\n",
            "* **Scientific Discovery:** (e.g., drug discovery, climate modeling)\n",
            "\n",
            "**In a nutshell:**\n",
            "\n",
            "Machine learning is about enabling computers to learn from data, identify patterns, and make predictions or decisions without explicit programming. It's a powerful tool that's transforming how we interact with technology and the world around us.\n",
            "\n",
            "Let me know if you'd like to delve deeper into any specific aspect of machine learning!\n",
            "\n"
          ]
        }
      ]
    }
  ]
}