{
  "nbformat": 4,
  "nbformat_minor": 0,
  "metadata": {
    "colab": {
      "provenance": [],
      "authorship_tag": "ABX9TyPEVTm3vyC97itFlOdisDqB",
      "include_colab_link": true
    },
    "kernelspec": {
      "name": "python3",
      "display_name": "Python 3"
    },
    "language_info": {
      "name": "python"
    }
  },
  "cells": [
    {
      "cell_type": "markdown",
      "metadata": {
        "id": "view-in-github",
        "colab_type": "text"
      },
      "source": [
        "<a href=\"https://colab.research.google.com/github/Amir-Shahzad-Malick/LangChain_Projects/blob/main/HelloWorldLangchain.ipynb\" target=\"_parent\"><img src=\"https://colab.research.google.com/assets/colab-badge.svg\" alt=\"Open In Colab\"/></a>"
      ]
    },
    {
      "cell_type": "markdown",
      "source": [
        "**Setting up the Environment**"
      ],
      "metadata": {
        "id": "g9MJ6soQTBvi"
      }
    },
    {
      "cell_type": "code",
      "source": [
        "!pip install langchain langchain-google-genai"
      ],
      "metadata": {
        "id": "2w74VsmXj3EI"
      },
      "execution_count": null,
      "outputs": []
    },
    {
      "cell_type": "code",
      "source": [
        "import langchain_google_genai as genai"
      ],
      "metadata": {
        "id": "feuXbYDTkIAw"
      },
      "execution_count": 2,
      "outputs": []
    },
    {
      "cell_type": "code",
      "source": [
        "from langchain_google_genai import ChatGoogleGenerativeAI"
      ],
      "metadata": {
        "id": "wnvYxIvRoqHM"
      },
      "execution_count": 3,
      "outputs": []
    },
    {
      "cell_type": "markdown",
      "source": [
        "**Setting up API Key**"
      ],
      "metadata": {
        "id": "TF5XyMrTThxL"
      }
    },
    {
      "cell_type": "code",
      "source": [
        "from google.colab import userdata\n",
        "GOOGLE_API_KEY = userdata.get('GOOGLE_API_KEY')"
      ],
      "metadata": {
        "id": "9_y1fNSkmDFv"
      },
      "execution_count": 4,
      "outputs": []
    },
    {
      "cell_type": "markdown",
      "source": [
        "**Configure the Model**"
      ],
      "metadata": {
        "id": "QjFULhSeTp8q"
      }
    },
    {
      "cell_type": "code",
      "source": [
        "generation_config = {\n",
        "  \"temperature\": 1,\n",
        "  \"max_output_tokens\": 5000,\n",
        "}\n",
        "MODEL: str = \"gemini-2.0-flash-exp\""
      ],
      "metadata": {
        "id": "MPjlbTRpurEH"
      },
      "execution_count": 5,
      "outputs": []
    },
    {
      "cell_type": "code",
      "source": [
        "model: ChatGoogleGenerativeAI = genai.ChatGoogleGenerativeAI(\n",
        "    model=MODEL,\n",
        "    api_key=GOOGLE_API_KEY,\n",
        "    generation_config=generation_config\n",
        ")"
      ],
      "metadata": {
        "id": "N2VwmoRjvy12"
      },
      "execution_count": 6,
      "outputs": []
    },
    {
      "cell_type": "markdown",
      "source": [
        "**Create a prompt and run the Hello world**"
      ],
      "metadata": {
        "id": "Q_FxqOB4Uno1"
      }
    },
    {
      "cell_type": "code",
      "source": [
        "prompt = \"List five countries in Africa with short description\"\n",
        "response = model.invoke(prompt)"
      ],
      "metadata": {
        "id": "bMcC2Khoxm2i"
      },
      "execution_count": 7,
      "outputs": []
    },
    {
      "cell_type": "code",
      "source": [
        "print(response.content)"
      ],
      "metadata": {
        "colab": {
          "base_uri": "https://localhost:8080/"
        },
        "id": "D6Cuz2nryU2N",
        "outputId": "cdd2301f-c204-4846-c17b-a4b953bc8e7b"
      },
      "execution_count": 8,
      "outputs": [
        {
          "output_type": "stream",
          "name": "stdout",
          "text": [
            "Okay, here are five countries in Africa with brief descriptions:\n",
            "\n",
            "1.  **Nigeria:** Located in West Africa, Nigeria is the most populous country on the continent and a major economic power. It's known for its diverse landscapes, including rainforests, savannas, and coastal areas. Nigeria has a rich cultural heritage, with a vibrant music and film industry (\"Nollywood\"), and significant oil reserves.\n",
            "\n",
            "2.  **Egypt:** Situated in North Africa, Egypt is famous for its ancient history and iconic landmarks like the pyramids of Giza and the Sphinx. The Nile River is the lifeblood of the country, supporting agriculture and population centers. Egypt has a blend of Arab and African cultures and is a major player in the Middle East and North Africa.\n",
            "\n",
            "3.  **South Africa:**  Located at the southern tip of the continent, South Africa is known for its diverse landscapes, including beaches, mountains, and wildlife reserves like Kruger National Park. It has a complex history, marked by apartheid, but is now a multicultural nation with a vibrant arts scene and a significant economy.\n",
            "\n",
            "4.  **Kenya:** Located in East Africa, Kenya is famous for its wildlife safaris and stunning landscapes, including the Maasai Mara and Mount Kenya. It's a hub for tourism and has a growing tech sector. Kenya is also known for its diverse ethnic groups and rich cultural traditions.\n",
            "\n",
            "5.  **Ethiopia:** Located in the Horn of Africa, Ethiopia is known for its unique history as an ancient Christian empire and its diverse landscapes, including highlands and the Great Rift Valley. It's the only African country never colonized and is considered the birthplace of coffee. Ethiopia is also home to a variety of ethnic groups and a rich culture.\n",
            "\n"
          ]
        }
      ]
    }
  ]
}